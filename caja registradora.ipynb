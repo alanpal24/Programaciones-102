{
 "cells": [
  {
   "attachments": {},
   "cell_type": "markdown",
   "metadata": {},
   "source": [
    "apuntes de trabajos anteriores"
   ]
  },
  {
   "cell_type": "code",
   "execution_count": null,
   "metadata": {},
   "outputs": [],
   "source": [
    "#hacer una caja registradora\n",
    "\n",
    "print(\"lectura de artículos\")\n",
    "\n",
    "#artículos escolares no pagan impuestos\n",
    "\n",
    "school={\n",
    "    \"A\": 1.99\n",
    "    \"B\": 2.99\n",
    "    \"C\": 3.99\n",
    "    \"D\": 5.99\n",
    "    \"E\": 8.99\n",
    "}\n",
    "\n",
    "misc={\n",
    "    \"F\": 1.99\n",
    "    \"G\": 2.99\n",
    "    \"H\": 3.99\n",
    "    \"I\": 5.99\n",
    "    \"J\": 8.99\n",
    "}\n",
    "\n",
    "i=0\n",
    "len(misc)\n",
    "len(school)\n",
    "#tomar código e ir al diccionario\n",
    "for i != len(misc)\n",
    "\n",
    "code=input(\"código (de A a J):\" )\n",
    "if code  "
   ]
  },
  {
   "attachments": {},
   "cell_type": "markdown",
   "metadata": {},
   "source": [
    "trabajo a realizar:\n",
    "mediante listas crear una caja que permita contabilizar el total de múltiples artículos...\n"
   ]
  },
  {
   "attachments": {},
   "cell_type": "markdown",
   "metadata": {},
   "source": [
    "1: hacer una lista de artículos vari Guardar estos elementos en un archivo de texto (.txt)\n"
   ]
  },
  {
   "attachments": {},
   "cell_type": "markdown",
   "metadata": {},
   "source": [
    "2: Utilizando cuadernos jupiter, desarrollar un programa de caja de facturación digital, en la cual se presente el subtotal, los impuestos por pagar y si el artículo paga o no impuesto (considerar solamente el impuesto de 7%)"
   ]
  },
  {
   "attachments": {},
   "cell_type": "markdown",
   "metadata": {},
   "source": [
    "3: Registrar los cambios utilizando Git\n"
   ]
  },
  {
   "attachments": {},
   "cell_type": "markdown",
   "metadata": {},
   "source": [
    "4: Al finalizar comprobar el correcto funcionamiento del programa, subirlo a GitHub en un repositorio público"
   ]
  }
 ],
 "metadata": {
  "language_info": {
   "name": "python"
  },
  "orig_nbformat": 4
 },
 "nbformat": 4,
 "nbformat_minor": 2
}
